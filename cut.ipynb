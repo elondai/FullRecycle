{
 "cells": [
  {
   "cell_type": "code",
   "execution_count": 4,
   "metadata": {},
   "outputs": [],
   "source": [
    "import os\n",
    "from PIL import Image\n",
    "UNIT_SIZE = 256  # the size of image\n",
    "TARGET_WIDTH = UNIT_SIZE\n",
    "save_path = './datasets/ObamaTrump_cut/trainB'\n",
    "path = \"./datasets/ObamaTrump/trainB\"\n",
    "\n",
    "images = []  # all pic name\n",
    "\n",
    "\n",
    "def cut():\n",
    "    for img in os.listdir(path):\n",
    "        if os.path.splitext(img)[1] == '.png':\n",
    "            images.append(img)\n",
    "    if not os.path.exists(save_path):\n",
    "        os.makedirs(save_path)\n",
    "    for i in range(len(images)):  \n",
    "        imgfile = Image.open(path+'/'+images[i])\n",
    "\n",
    "        cropped = imgfile.crop((0, 0, 256, 256))  # (left, upper, right, lower)\n",
    "        cropped.save(save_path+'/'+images[i])\n",
    "\n",
    "\n",
    "if __name__ == '__main__':\n",
    "    cut()"
   ]
  },
  {
   "cell_type": "code",
   "execution_count": null,
   "metadata": {},
   "outputs": [],
   "source": []
  }
 ],
 "metadata": {
  "kernelspec": {
   "display_name": "Python 3",
   "language": "python",
   "name": "python3"
  },
  "language_info": {
   "codemirror_mode": {
    "name": "ipython",
    "version": 3
   },
   "file_extension": ".py",
   "mimetype": "text/x-python",
   "name": "python",
   "nbconvert_exporter": "python",
   "pygments_lexer": "ipython3",
   "version": "3.7.1"
  }
 },
 "nbformat": 4,
 "nbformat_minor": 2
}
